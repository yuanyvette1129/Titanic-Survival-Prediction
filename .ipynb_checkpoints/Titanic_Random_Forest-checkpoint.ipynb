{
 "cells": [
  {
   "cell_type": "markdown",
   "metadata": {},
   "source": [
    "## Random Forest\n",
    "\n",
    "Merges a collection of independent decision trees to get a more accurate and stable prediction.\n",
    "\n",
    "A type of ensemble methods that combines several machine learning models in order to decrease both bias and variance.\n",
    "\n",
    "When to use it?\n",
    "- Categorical or continuous target variables\n",
    "- interested in significance of predictors\n",
    "- need a quick benchmark model\n",
    "- If you have messy data, such as missing values, outliers\n",
    "\n",
    "When not to use it?\n",
    "- If you are solving a very complex, novel problem\n",
    "- Transparancy is important (details within the model)\n",
    "- Prediction time is important\n"
   ]
  },
  {
   "cell_type": "code",
   "execution_count": 2,
   "metadata": {},
   "outputs": [],
   "source": [
    "from sklearn.ensemble import RandomForestClassifier, RandomForestRegressor"
   ]
  },
  {
   "cell_type": "code",
   "execution_count": 4,
   "metadata": {},
   "outputs": [
    {
     "name": "stdout",
     "output_type": "stream",
     "text": [
      "{'bootstrap': True, 'ccp_alpha': 0.0, 'class_weight': None, 'criterion': 'gini', 'max_depth': None, 'max_features': 'auto', 'max_leaf_nodes': None, 'max_samples': None, 'min_impurity_decrease': 0.0, 'min_impurity_split': None, 'min_samples_leaf': 1, 'min_samples_split': 2, 'min_weight_fraction_leaf': 0.0, 'n_estimators': 100, 'n_jobs': None, 'oob_score': False, 'random_state': None, 'verbose': 0, 'warm_start': False}\n",
      "{'bootstrap': True, 'ccp_alpha': 0.0, 'criterion': 'mse', 'max_depth': None, 'max_features': 'auto', 'max_leaf_nodes': None, 'max_samples': None, 'min_impurity_decrease': 0.0, 'min_impurity_split': None, 'min_samples_leaf': 1, 'min_samples_split': 2, 'min_weight_fraction_leaf': 0.0, 'n_estimators': 100, 'n_jobs': None, 'oob_score': False, 'random_state': None, 'verbose': 0, 'warm_start': False}\n"
     ]
    }
   ],
   "source": [
    "print(RandomForestClassifier().get_params())\n",
    "print(RandomForestRegressor().get_params())"
   ]
  },
  {
   "cell_type": "markdown",
   "metadata": {},
   "source": [
    "### Read in Data"
   ]
  },
  {
   "cell_type": "code",
   "execution_count": 6,
   "metadata": {},
   "outputs": [],
   "source": [
    "import joblib\n",
    "import pandas as pd\n",
    "from sklearn.ensemble import RandomForestClassifier\n",
    "from sklearn.model_selection import GridSearchCV\n",
    "import warnings\n",
    "warnings.filterwarnings('ignore', category=FutureWarning)\n",
    "warnings.filterwarnings('ignore', category=DeprecationWarning)"
   ]
  },
  {
   "cell_type": "code",
   "execution_count": 7,
   "metadata": {},
   "outputs": [],
   "source": [
    "tr_features = pd.read_csv('data/train_features.csv')\n",
    "tr_labels = pd.read_csv('data/train_labels.csv')"
   ]
  },
  {
   "cell_type": "markdown",
   "metadata": {},
   "source": [
    "### Hyperparameter tuning\n",
    "\n",
    "![RF](image/rf.png)"
   ]
  },
  {
   "cell_type": "code",
   "execution_count": 8,
   "metadata": {},
   "outputs": [],
   "source": [
    "def print_results(results):\n",
    "    print('BEST PARAMS: {}\\n'.format(results.best_params_))\n",
    "\n",
    "    means = results.cv_results_['mean_test_score']\n",
    "    stds = results.cv_results_['std_test_score']\n",
    "    for mean, std, params in zip(means, stds, results.cv_results_['params']):\n",
    "        print('{} (+/-{}) for {}'.format(round(mean, 3), round(std * 2, 3), params))"
   ]
  },
  {
   "cell_type": "code",
   "execution_count": 16,
   "metadata": {},
   "outputs": [
    {
     "name": "stdout",
     "output_type": "stream",
     "text": [
      "BEST PARAMS: {'max_depth': 4, 'n_estimators': 50}\n",
      "\n",
      "0.79 (+/-0.107) for {'max_depth': 2, 'n_estimators': 5}\n",
      "0.805 (+/-0.104) for {'max_depth': 2, 'n_estimators': 50}\n",
      "0.798 (+/-0.13) for {'max_depth': 2, 'n_estimators': 100}\n",
      "0.794 (+/-0.121) for {'max_depth': 2, 'n_estimators': 250}\n",
      "0.809 (+/-0.09) for {'max_depth': 4, 'n_estimators': 5}\n",
      "0.826 (+/-0.121) for {'max_depth': 4, 'n_estimators': 50}\n",
      "0.824 (+/-0.121) for {'max_depth': 4, 'n_estimators': 100}\n",
      "0.824 (+/-0.108) for {'max_depth': 4, 'n_estimators': 250}\n",
      "0.818 (+/-0.066) for {'max_depth': 8, 'n_estimators': 5}\n",
      "0.817 (+/-0.065) for {'max_depth': 8, 'n_estimators': 50}\n",
      "0.822 (+/-0.066) for {'max_depth': 8, 'n_estimators': 100}\n",
      "0.817 (+/-0.079) for {'max_depth': 8, 'n_estimators': 250}\n",
      "0.792 (+/-0.055) for {'max_depth': 16, 'n_estimators': 5}\n",
      "0.811 (+/-0.036) for {'max_depth': 16, 'n_estimators': 50}\n",
      "0.811 (+/-0.018) for {'max_depth': 16, 'n_estimators': 100}\n",
      "0.807 (+/-0.022) for {'max_depth': 16, 'n_estimators': 250}\n",
      "0.802 (+/-0.047) for {'max_depth': 42, 'n_estimators': 5}\n",
      "0.815 (+/-0.032) for {'max_depth': 42, 'n_estimators': 50}\n",
      "0.815 (+/-0.031) for {'max_depth': 42, 'n_estimators': 100}\n",
      "0.813 (+/-0.023) for {'max_depth': 42, 'n_estimators': 250}\n",
      "0.803 (+/-0.051) for {'max_depth': None, 'n_estimators': 5}\n",
      "0.807 (+/-0.03) for {'max_depth': None, 'n_estimators': 50}\n",
      "0.807 (+/-0.036) for {'max_depth': None, 'n_estimators': 100}\n",
      "0.809 (+/-0.025) for {'max_depth': None, 'n_estimators': 250}\n"
     ]
    }
   ],
   "source": [
    "rf = RandomForestClassifier()\n",
    "parameters = {\n",
    "    'n_estimators': [5, 50,100,250],\n",
    "    'max_depth': [2,4,8,16,42,None]\n",
    "}\n",
    "\n",
    "cv = GridSearchCV(rf,parameters,cv=5)\n",
    "cv.fit(tr_features,tr_labels.values.ravel())\n",
    "print_results(cv)"
   ]
  },
  {
   "cell_type": "code",
   "execution_count": 17,
   "metadata": {},
   "outputs": [
    {
     "data": {
      "text/plain": [
       "RandomForestClassifier(max_depth=4, n_estimators=50)"
      ]
     },
     "execution_count": 17,
     "metadata": {},
     "output_type": "execute_result"
    }
   ],
   "source": [
    "cv.best_estimator_"
   ]
  },
  {
   "cell_type": "markdown",
   "metadata": {},
   "source": [
    "### Write out pickled model"
   ]
  },
  {
   "cell_type": "code",
   "execution_count": 18,
   "metadata": {},
   "outputs": [
    {
     "data": {
      "text/plain": [
       "['RF_model.pkl']"
      ]
     },
     "execution_count": 18,
     "metadata": {},
     "output_type": "execute_result"
    }
   ],
   "source": [
    "joblib.dump(cv.best_estimator_,'model/RF_model.pkl')"
   ]
  },
  {
   "cell_type": "code",
   "execution_count": null,
   "metadata": {},
   "outputs": [],
   "source": []
  }
 ],
 "metadata": {
  "kernelspec": {
   "display_name": "Python 3",
   "language": "python",
   "name": "python3"
  },
  "language_info": {
   "codemirror_mode": {
    "name": "ipython",
    "version": 3
   },
   "file_extension": ".py",
   "mimetype": "text/x-python",
   "name": "python",
   "nbconvert_exporter": "python",
   "pygments_lexer": "ipython3",
   "version": "3.6.10"
  }
 },
 "nbformat": 4,
 "nbformat_minor": 2
}
