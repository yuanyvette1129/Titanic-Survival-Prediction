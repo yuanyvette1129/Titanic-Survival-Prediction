{
 "cells": [
  {
   "cell_type": "markdown",
   "metadata": {},
   "source": [
    "## Boosting\n",
    "\n",
    "Boosting is an esemble method that aggregates a number of weak models to create one strong model.\n",
    "\n",
    "A weak model is one that is only slightly better than guessing. A strong model is one that is strongly correlated with the true classification.\n",
    "\n",
    "Boosting effectively learns from its mistake with each iteration.\n",
    "\n",
    "Train in sequential manner, but prediction in parallel manner\n",
    "\n",
    "When to use it?\n",
    "- Categorical or continuous target variable\n",
    "- useful on nearly any type of problem\n",
    "- Interested in significance of predictors\n",
    "- Prediction time is important (training is slow, but prediction is fast)\n",
    "\n",
    "When not to use it?\n",
    "- Transparency is important\n",
    "- Training time is important or compute power is limited\n",
    "- Data is really noisy, GB will likely overfit"
   ]
  },
  {
   "cell_type": "code",
   "execution_count": 2,
   "metadata": {},
   "outputs": [
    {
     "name": "stdout",
     "output_type": "stream",
     "text": [
      "{'ccp_alpha': 0.0, 'criterion': 'friedman_mse', 'init': None, 'learning_rate': 0.1, 'loss': 'deviance', 'max_depth': 3, 'max_features': None, 'max_leaf_nodes': None, 'min_impurity_decrease': 0.0, 'min_impurity_split': None, 'min_samples_leaf': 1, 'min_samples_split': 2, 'min_weight_fraction_leaf': 0.0, 'n_estimators': 100, 'n_iter_no_change': None, 'presort': 'deprecated', 'random_state': None, 'subsample': 1.0, 'tol': 0.0001, 'validation_fraction': 0.1, 'verbose': 0, 'warm_start': False}\n",
      "{'alpha': 0.9, 'ccp_alpha': 0.0, 'criterion': 'friedman_mse', 'init': None, 'learning_rate': 0.1, 'loss': 'ls', 'max_depth': 3, 'max_features': None, 'max_leaf_nodes': None, 'min_impurity_decrease': 0.0, 'min_impurity_split': None, 'min_samples_leaf': 1, 'min_samples_split': 2, 'min_weight_fraction_leaf': 0.0, 'n_estimators': 100, 'n_iter_no_change': None, 'presort': 'deprecated', 'random_state': None, 'subsample': 1.0, 'tol': 0.0001, 'validation_fraction': 0.1, 'verbose': 0, 'warm_start': False}\n"
     ]
    }
   ],
   "source": [
    "from sklearn.ensemble import GradientBoostingClassifier, GradientBoostingRegressor\n",
    "\n",
    "print(GradientBoostingClassifier().get_params())\n",
    "print(GradientBoostingRegressor().get_params())"
   ]
  },
  {
   "cell_type": "markdown",
   "metadata": {},
   "source": [
    "### Read in Data"
   ]
  },
  {
   "cell_type": "code",
   "execution_count": 5,
   "metadata": {},
   "outputs": [
    {
     "name": "stderr",
     "output_type": "stream",
     "text": [
      "/Users/yuan/anaconda3/lib/python3.6/importlib/_bootstrap.py:219: RuntimeWarning: numpy.ufunc size changed, may indicate binary incompatibility. Expected 192 from C header, got 216 from PyObject\n",
      "  return f(*args, **kwds)\n"
     ]
    }
   ],
   "source": [
    "import joblib\n",
    "import pandas as pd\n",
    "from sklearn.ensemble import GradientBoostingClassifier\n",
    "from sklearn.model_selection import GridSearchCV\n",
    "import warnings\n",
    "warnings.filterwarnings('ignore', category=FutureWarning)\n",
    "warnings.filterwarnings('ignore', category=DeprecationWarning)\n"
   ]
  },
  {
   "cell_type": "code",
   "execution_count": 6,
   "metadata": {},
   "outputs": [],
   "source": [
    "\n",
    "tr_features = pd.read_csv('data/train_features.csv')\n",
    "tr_labels = pd.read_csv('data/train_labels.csv')"
   ]
  },
  {
   "cell_type": "markdown",
   "metadata": {},
   "source": [
    "### Hyperparameter tuning\n",
    "\n",
    "![GB](image/gb.png)"
   ]
  },
  {
   "cell_type": "code",
   "execution_count": 3,
   "metadata": {},
   "outputs": [],
   "source": [
    "def print_results(results):\n",
    "    print('BEST PARAMS: {}\\n'.format(results.best_params_))\n",
    "\n",
    "    means = results.cv_results_['mean_test_score']\n",
    "    stds = results.cv_results_['std_test_score']\n",
    "    for mean, std, params in zip(means, stds, results.cv_results_['params']):\n",
    "        print('{} (+/-{}) for {}'.format(round(mean, 3), round(std * 2, 3), params))"
   ]
  },
  {
   "cell_type": "code",
   "execution_count": 8,
   "metadata": {},
   "outputs": [
    {
     "name": "stdout",
     "output_type": "stream",
     "text": [
      "BEST PARAMS: {'learning_rate': 0.01, 'max_depth': 3, 'n_estimators': 500}\n",
      "\n",
      "0.624 (+/-0.007) for {'learning_rate': 0.01, 'max_depth': 1, 'n_estimators': 5}\n",
      "0.796 (+/-0.115) for {'learning_rate': 0.01, 'max_depth': 1, 'n_estimators': 50}\n",
      "0.796 (+/-0.115) for {'learning_rate': 0.01, 'max_depth': 1, 'n_estimators': 100}\n",
      "0.796 (+/-0.115) for {'learning_rate': 0.01, 'max_depth': 1, 'n_estimators': 250}\n",
      "0.811 (+/-0.117) for {'learning_rate': 0.01, 'max_depth': 1, 'n_estimators': 500}\n",
      "0.624 (+/-0.007) for {'learning_rate': 0.01, 'max_depth': 3, 'n_estimators': 5}\n",
      "0.811 (+/-0.069) for {'learning_rate': 0.01, 'max_depth': 3, 'n_estimators': 50}\n",
      "0.815 (+/-0.069) for {'learning_rate': 0.01, 'max_depth': 3, 'n_estimators': 100}\n",
      "0.83 (+/-0.074) for {'learning_rate': 0.01, 'max_depth': 3, 'n_estimators': 250}\n",
      "0.841 (+/-0.077) for {'learning_rate': 0.01, 'max_depth': 3, 'n_estimators': 500}\n",
      "0.624 (+/-0.007) for {'learning_rate': 0.01, 'max_depth': 5, 'n_estimators': 5}\n",
      "0.822 (+/-0.052) for {'learning_rate': 0.01, 'max_depth': 5, 'n_estimators': 50}\n",
      "0.815 (+/-0.054) for {'learning_rate': 0.01, 'max_depth': 5, 'n_estimators': 100}\n",
      "0.818 (+/-0.043) for {'learning_rate': 0.01, 'max_depth': 5, 'n_estimators': 250}\n",
      "0.828 (+/-0.047) for {'learning_rate': 0.01, 'max_depth': 5, 'n_estimators': 500}\n",
      "0.624 (+/-0.007) for {'learning_rate': 0.01, 'max_depth': 7, 'n_estimators': 5}\n",
      "0.817 (+/-0.05) for {'learning_rate': 0.01, 'max_depth': 7, 'n_estimators': 50}\n",
      "0.82 (+/-0.024) for {'learning_rate': 0.01, 'max_depth': 7, 'n_estimators': 100}\n",
      "0.82 (+/-0.036) for {'learning_rate': 0.01, 'max_depth': 7, 'n_estimators': 250}\n",
      "0.801 (+/-0.033) for {'learning_rate': 0.01, 'max_depth': 7, 'n_estimators': 500}\n",
      "0.624 (+/-0.007) for {'learning_rate': 0.01, 'max_depth': 9, 'n_estimators': 5}\n",
      "0.803 (+/-0.059) for {'learning_rate': 0.01, 'max_depth': 9, 'n_estimators': 50}\n",
      "0.802 (+/-0.044) for {'learning_rate': 0.01, 'max_depth': 9, 'n_estimators': 100}\n",
      "0.802 (+/-0.043) for {'learning_rate': 0.01, 'max_depth': 9, 'n_estimators': 250}\n",
      "0.792 (+/-0.046) for {'learning_rate': 0.01, 'max_depth': 9, 'n_estimators': 500}\n",
      "0.796 (+/-0.115) for {'learning_rate': 0.1, 'max_depth': 1, 'n_estimators': 5}\n",
      "0.815 (+/-0.119) for {'learning_rate': 0.1, 'max_depth': 1, 'n_estimators': 50}\n",
      "0.82 (+/-0.104) for {'learning_rate': 0.1, 'max_depth': 1, 'n_estimators': 100}\n",
      "0.818 (+/-0.111) for {'learning_rate': 0.1, 'max_depth': 1, 'n_estimators': 250}\n",
      "0.828 (+/-0.092) for {'learning_rate': 0.1, 'max_depth': 1, 'n_estimators': 500}\n",
      "0.813 (+/-0.071) for {'learning_rate': 0.1, 'max_depth': 3, 'n_estimators': 5}\n",
      "0.839 (+/-0.076) for {'learning_rate': 0.1, 'max_depth': 3, 'n_estimators': 50}\n",
      "0.833 (+/-0.039) for {'learning_rate': 0.1, 'max_depth': 3, 'n_estimators': 100}\n",
      "0.818 (+/-0.023) for {'learning_rate': 0.1, 'max_depth': 3, 'n_estimators': 250}\n",
      "0.811 (+/-0.036) for {'learning_rate': 0.1, 'max_depth': 3, 'n_estimators': 500}\n",
      "0.815 (+/-0.044) for {'learning_rate': 0.1, 'max_depth': 5, 'n_estimators': 5}\n",
      "0.818 (+/-0.03) for {'learning_rate': 0.1, 'max_depth': 5, 'n_estimators': 50}\n",
      "0.818 (+/-0.028) for {'learning_rate': 0.1, 'max_depth': 5, 'n_estimators': 100}\n",
      "0.807 (+/-0.034) for {'learning_rate': 0.1, 'max_depth': 5, 'n_estimators': 250}\n",
      "0.796 (+/-0.029) for {'learning_rate': 0.1, 'max_depth': 5, 'n_estimators': 500}\n",
      "0.818 (+/-0.053) for {'learning_rate': 0.1, 'max_depth': 7, 'n_estimators': 5}\n",
      "0.802 (+/-0.021) for {'learning_rate': 0.1, 'max_depth': 7, 'n_estimators': 50}\n",
      "0.794 (+/-0.021) for {'learning_rate': 0.1, 'max_depth': 7, 'n_estimators': 100}\n",
      "0.794 (+/-0.03) for {'learning_rate': 0.1, 'max_depth': 7, 'n_estimators': 250}\n",
      "0.792 (+/-0.029) for {'learning_rate': 0.1, 'max_depth': 7, 'n_estimators': 500}\n",
      "0.802 (+/-0.044) for {'learning_rate': 0.1, 'max_depth': 9, 'n_estimators': 5}\n",
      "0.787 (+/-0.032) for {'learning_rate': 0.1, 'max_depth': 9, 'n_estimators': 50}\n",
      "0.779 (+/-0.032) for {'learning_rate': 0.1, 'max_depth': 9, 'n_estimators': 100}\n",
      "0.787 (+/-0.036) for {'learning_rate': 0.1, 'max_depth': 9, 'n_estimators': 250}\n",
      "0.79 (+/-0.034) for {'learning_rate': 0.1, 'max_depth': 9, 'n_estimators': 500}\n",
      "0.818 (+/-0.099) for {'learning_rate': 1, 'max_depth': 1, 'n_estimators': 5}\n",
      "0.832 (+/-0.081) for {'learning_rate': 1, 'max_depth': 1, 'n_estimators': 50}\n",
      "0.837 (+/-0.073) for {'learning_rate': 1, 'max_depth': 1, 'n_estimators': 100}\n",
      "0.826 (+/-0.077) for {'learning_rate': 1, 'max_depth': 1, 'n_estimators': 250}\n",
      "0.822 (+/-0.081) for {'learning_rate': 1, 'max_depth': 1, 'n_estimators': 500}\n",
      "0.824 (+/-0.057) for {'learning_rate': 1, 'max_depth': 3, 'n_estimators': 5}\n",
      "0.801 (+/-0.023) for {'learning_rate': 1, 'max_depth': 3, 'n_estimators': 50}\n",
      "0.79 (+/-0.02) for {'learning_rate': 1, 'max_depth': 3, 'n_estimators': 100}\n",
      "0.794 (+/-0.03) for {'learning_rate': 1, 'max_depth': 3, 'n_estimators': 250}\n",
      "0.792 (+/-0.027) for {'learning_rate': 1, 'max_depth': 3, 'n_estimators': 500}\n",
      "0.796 (+/-0.013) for {'learning_rate': 1, 'max_depth': 5, 'n_estimators': 5}\n",
      "0.785 (+/-0.011) for {'learning_rate': 1, 'max_depth': 5, 'n_estimators': 50}\n",
      "0.788 (+/-0.053) for {'learning_rate': 1, 'max_depth': 5, 'n_estimators': 100}\n",
      "0.792 (+/-0.025) for {'learning_rate': 1, 'max_depth': 5, 'n_estimators': 250}\n",
      "0.8 (+/-0.018) for {'learning_rate': 1, 'max_depth': 5, 'n_estimators': 500}\n",
      "0.77 (+/-0.034) for {'learning_rate': 1, 'max_depth': 7, 'n_estimators': 5}\n",
      "0.794 (+/-0.013) for {'learning_rate': 1, 'max_depth': 7, 'n_estimators': 50}\n",
      "0.794 (+/-0.011) for {'learning_rate': 1, 'max_depth': 7, 'n_estimators': 100}\n",
      "0.796 (+/-0.021) for {'learning_rate': 1, 'max_depth': 7, 'n_estimators': 250}\n",
      "0.801 (+/-0.062) for {'learning_rate': 1, 'max_depth': 7, 'n_estimators': 500}\n",
      "0.772 (+/-0.055) for {'learning_rate': 1, 'max_depth': 9, 'n_estimators': 5}\n",
      "0.798 (+/-0.039) for {'learning_rate': 1, 'max_depth': 9, 'n_estimators': 50}\n",
      "0.796 (+/-0.055) for {'learning_rate': 1, 'max_depth': 9, 'n_estimators': 100}\n",
      "0.807 (+/-0.038) for {'learning_rate': 1, 'max_depth': 9, 'n_estimators': 250}\n",
      "0.781 (+/-0.061) for {'learning_rate': 1, 'max_depth': 9, 'n_estimators': 500}\n",
      "0.204 (+/-0.115) for {'learning_rate': 10, 'max_depth': 1, 'n_estimators': 5}\n",
      "0.204 (+/-0.115) for {'learning_rate': 10, 'max_depth': 1, 'n_estimators': 50}\n",
      "0.204 (+/-0.115) for {'learning_rate': 10, 'max_depth': 1, 'n_estimators': 100}\n",
      "0.204 (+/-0.115) for {'learning_rate': 10, 'max_depth': 1, 'n_estimators': 250}\n",
      "0.204 (+/-0.115) for {'learning_rate': 10, 'max_depth': 1, 'n_estimators': 500}\n",
      "0.307 (+/-0.195) for {'learning_rate': 10, 'max_depth': 3, 'n_estimators': 5}\n",
      "0.307 (+/-0.195) for {'learning_rate': 10, 'max_depth': 3, 'n_estimators': 50}\n",
      "0.307 (+/-0.195) for {'learning_rate': 10, 'max_depth': 3, 'n_estimators': 100}\n",
      "0.307 (+/-0.195) for {'learning_rate': 10, 'max_depth': 3, 'n_estimators': 250}\n",
      "0.307 (+/-0.195) for {'learning_rate': 10, 'max_depth': 3, 'n_estimators': 500}\n",
      "0.389 (+/-0.181) for {'learning_rate': 10, 'max_depth': 5, 'n_estimators': 5}\n",
      "0.443 (+/-0.263) for {'learning_rate': 10, 'max_depth': 5, 'n_estimators': 50}\n",
      "0.417 (+/-0.19) for {'learning_rate': 10, 'max_depth': 5, 'n_estimators': 100}\n",
      "0.415 (+/-0.264) for {'learning_rate': 10, 'max_depth': 5, 'n_estimators': 250}\n",
      "0.417 (+/-0.271) for {'learning_rate': 10, 'max_depth': 5, 'n_estimators': 500}\n",
      "0.58 (+/-0.182) for {'learning_rate': 10, 'max_depth': 7, 'n_estimators': 5}\n",
      "0.622 (+/-0.181) for {'learning_rate': 10, 'max_depth': 7, 'n_estimators': 50}\n",
      "0.575 (+/-0.207) for {'learning_rate': 10, 'max_depth': 7, 'n_estimators': 100}\n",
      "0.584 (+/-0.232) for {'learning_rate': 10, 'max_depth': 7, 'n_estimators': 250}\n",
      "0.603 (+/-0.232) for {'learning_rate': 10, 'max_depth': 7, 'n_estimators': 500}\n",
      "0.702 (+/-0.116) for {'learning_rate': 10, 'max_depth': 9, 'n_estimators': 5}\n",
      "0.721 (+/-0.119) for {'learning_rate': 10, 'max_depth': 9, 'n_estimators': 50}\n",
      "0.71 (+/-0.122) for {'learning_rate': 10, 'max_depth': 9, 'n_estimators': 100}\n",
      "0.667 (+/-0.121) for {'learning_rate': 10, 'max_depth': 9, 'n_estimators': 250}\n",
      "0.689 (+/-0.102) for {'learning_rate': 10, 'max_depth': 9, 'n_estimators': 500}\n",
      "0.376 (+/-0.007) for {'learning_rate': 100, 'max_depth': 1, 'n_estimators': 5}\n",
      "0.376 (+/-0.007) for {'learning_rate': 100, 'max_depth': 1, 'n_estimators': 50}\n",
      "0.376 (+/-0.007) for {'learning_rate': 100, 'max_depth': 1, 'n_estimators': 100}\n",
      "0.376 (+/-0.007) for {'learning_rate': 100, 'max_depth': 1, 'n_estimators': 250}\n",
      "0.376 (+/-0.007) for {'learning_rate': 100, 'max_depth': 1, 'n_estimators': 500}\n",
      "0.29 (+/-0.102) for {'learning_rate': 100, 'max_depth': 3, 'n_estimators': 5}\n",
      "0.29 (+/-0.102) for {'learning_rate': 100, 'max_depth': 3, 'n_estimators': 50}\n",
      "0.29 (+/-0.102) for {'learning_rate': 100, 'max_depth': 3, 'n_estimators': 100}\n",
      "0.29 (+/-0.102) for {'learning_rate': 100, 'max_depth': 3, 'n_estimators': 250}\n",
      "0.29 (+/-0.102) for {'learning_rate': 100, 'max_depth': 3, 'n_estimators': 500}\n",
      "0.357 (+/-0.192) for {'learning_rate': 100, 'max_depth': 5, 'n_estimators': 5}\n",
      "0.357 (+/-0.186) for {'learning_rate': 100, 'max_depth': 5, 'n_estimators': 50}\n",
      "0.356 (+/-0.196) for {'learning_rate': 100, 'max_depth': 5, 'n_estimators': 100}\n",
      "0.365 (+/-0.194) for {'learning_rate': 100, 'max_depth': 5, 'n_estimators': 250}\n",
      "0.359 (+/-0.196) for {'learning_rate': 100, 'max_depth': 5, 'n_estimators': 500}\n",
      "0.597 (+/-0.081) for {'learning_rate': 100, 'max_depth': 7, 'n_estimators': 5}\n",
      "0.605 (+/-0.078) for {'learning_rate': 100, 'max_depth': 7, 'n_estimators': 50}\n",
      "0.573 (+/-0.148) for {'learning_rate': 100, 'max_depth': 7, 'n_estimators': 100}\n",
      "0.595 (+/-0.106) for {'learning_rate': 100, 'max_depth': 7, 'n_estimators': 250}\n",
      "0.575 (+/-0.111) for {'learning_rate': 100, 'max_depth': 7, 'n_estimators': 500}\n",
      "0.665 (+/-0.066) for {'learning_rate': 100, 'max_depth': 9, 'n_estimators': 5}\n",
      "0.652 (+/-0.077) for {'learning_rate': 100, 'max_depth': 9, 'n_estimators': 50}\n",
      "0.706 (+/-0.11) for {'learning_rate': 100, 'max_depth': 9, 'n_estimators': 100}\n",
      "0.668 (+/-0.109) for {'learning_rate': 100, 'max_depth': 9, 'n_estimators': 250}\n",
      "0.654 (+/-0.087) for {'learning_rate': 100, 'max_depth': 9, 'n_estimators': 500}\n"
     ]
    }
   ],
   "source": [
    "gb = GradientBoostingClassifier()\n",
    "parameters = {\n",
    "    'n_estimators': [5,50,100,250,500],\n",
    "    'max_depth': [1,3,5,7,9],\n",
    "    'learning_rate': [0.01, 0.1, 1, 10, 100]\n",
    "}\n",
    "cv = GridSearchCV(gb, parameters, cv=5)\n",
    "cv.fit(tr_features, tr_labels.values.ravel())\n",
    "\n",
    "print_results(cv)"
   ]
  },
  {
   "cell_type": "code",
   "execution_count": 9,
   "metadata": {},
   "outputs": [
    {
     "data": {
      "text/plain": [
       "GradientBoostingClassifier(learning_rate=0.01, n_estimators=500)"
      ]
     },
     "execution_count": 9,
     "metadata": {},
     "output_type": "execute_result"
    }
   ],
   "source": [
    "cv.best_estimator_"
   ]
  },
  {
   "cell_type": "markdown",
   "metadata": {},
   "source": [
    "### Write out pickled model"
   ]
  },
  {
   "cell_type": "code",
   "execution_count": 11,
   "metadata": {},
   "outputs": [
    {
     "data": {
      "text/plain": [
       "['GB_model.pkl']"
      ]
     },
     "execution_count": 11,
     "metadata": {},
     "output_type": "execute_result"
    }
   ],
   "source": [
    "joblib.dump(cv.best_estimator_, 'model/GB_model.pkl')"
   ]
  },
  {
   "cell_type": "code",
   "execution_count": null,
   "metadata": {},
   "outputs": [],
   "source": []
  }
 ],
 "metadata": {
  "kernelspec": {
   "display_name": "Python 3",
   "language": "python",
   "name": "python3"
  },
  "language_info": {
   "codemirror_mode": {
    "name": "ipython",
    "version": 3
   },
   "file_extension": ".py",
   "mimetype": "text/x-python",
   "name": "python",
   "nbconvert_exporter": "python",
   "pygments_lexer": "ipython3",
   "version": "3.6.10"
  }
 },
 "nbformat": 4,
 "nbformat_minor": 2
}
